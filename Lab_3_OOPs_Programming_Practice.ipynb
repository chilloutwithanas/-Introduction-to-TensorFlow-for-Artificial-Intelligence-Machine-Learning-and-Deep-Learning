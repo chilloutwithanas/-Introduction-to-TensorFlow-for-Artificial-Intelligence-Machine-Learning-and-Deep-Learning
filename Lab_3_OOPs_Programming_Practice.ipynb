{
  "nbformat": 4,
  "nbformat_minor": 0,
  "metadata": {
    "colab": {
      "name": "Lab-3 OOPs Programming - Practice.ipynb",
      "provenance": [],
      "collapsed_sections": [],
      "authorship_tag": "ABX9TyOIYRMaKtR4oe2pFvObbind",
      "include_colab_link": true
    },
    "kernelspec": {
      "name": "python3",
      "display_name": "Python 3"
    },
    "accelerator": "GPU"
  },
  "cells": [
    {
      "cell_type": "markdown",
      "metadata": {
        "id": "view-in-github",
        "colab_type": "text"
      },
      "source": [
        "<a href=\"https://colab.research.google.com/github/chilloutwithanas/-Introduction-to-TensorFlow-for-Artificial-Intelligence-Machine-Learning-and-Deep-Learning/blob/master/Lab_3_OOPs_Programming_Practice.ipynb\" target=\"_parent\"><img src=\"https://colab.research.google.com/assets/colab-badge.svg\" alt=\"Open In Colab\"/></a>"
      ]
    },
    {
      "cell_type": "markdown",
      "metadata": {
        "id": "AbKoFYUkjPmV",
        "colab_type": "text"
      },
      "source": [
        "## **`Anas Khan RA1811003010375`**"
      ]
    },
    {
      "cell_type": "markdown",
      "metadata": {
        "id": "Kx4l1hY7nki5",
        "colab_type": "text"
      },
      "source": [
        "Problem 1:\n",
        "Write a definition for a class named Kangaroo with the following methods:\n",
        "\n",
        "1.   An `__init__` method that initializes an attribute named  `pouch_contents` to an empty list.\n",
        "2.   A method named `put_in_pouch` that takes an object of any type and adds it to `pouch_contents`.\n",
        "3.   A `__str__` method that returns a string representation of the Kangaroo object and the contents of\n",
        "the pouch.\n",
        "\n",
        "\n",
        "Test your code by creating two Kangaroo objects, assigning them to variables named `kanga` and `roo`,\n",
        "and then adding roo to the contents of kanga’s pouch.\n"
      ]
    },
    {
      "cell_type": "code",
      "metadata": {
        "id": "aCm76aiJnVek",
        "colab_type": "code",
        "outputId": "3e1e8042-ecd1-4e55-e45c-b596874b0583",
        "colab": {
          "base_uri": "https://localhost:8080/",
          "height": 69
        }
      },
      "source": [
        "class Kangroo:\n",
        "  def __init__ (self):\n",
        "    self.pouch_contents=[]\n",
        "  \n",
        "  def put_in_pouch (self,a):\n",
        "    self.pouch_contents.append(a)\n",
        "    return self.pouch_contents\n",
        "\n",
        "  def __str__ (self):\n",
        "    #print(\"The values are:\", self.pouch_contents)\n",
        "    return self.pouch_contents\n",
        "\n",
        "kanga = Kangroo()\n",
        "kanga.put_in_pouch(\"Hello\")\n",
        "print(\"This is the value in Kanga: \")\n",
        "kanga.__str__()\n",
        "\n",
        "roo = Kangroo()\n",
        "roo.put_in_pouch(\"Anas\")\n",
        "print(\"This is the value in Roo: \")\n",
        "roo.__str__()\n",
        "\n",
        "kanga.put_in_pouch(roo.pouch_contents)\n",
        "#kanga.put_in_pouch(roo) #This line throw another object of Kangroo\"\"\" \n",
        "\n",
        "print(kanga.__str__())"
      ],
      "execution_count": 0,
      "outputs": [
        {
          "output_type": "stream",
          "text": [
            "This is the value in Kanga: \n",
            "This is the value in Roo: \n",
            "['Hello', ['Anas']]\n"
          ],
          "name": "stdout"
        }
      ]
    },
    {
      "cell_type": "markdown",
      "metadata": {
        "id": "kBFn8vf3Uq7e",
        "colab_type": "text"
      },
      "source": [
        "Problem 2: Create a class `BookStore` which uses to store the details of various books. included a constructor which initilaize the details of book such as `title`, `author`, `publisher`, and `price` of kind private instance variable. Include a class level variable `noOfBooks` which keep the count of books created. include the method `BookInfo` which describe the details of each Book. Create instance to create new books and display the details"
      ]
    },
    {
      "cell_type": "code",
      "metadata": {
        "id": "g1c9X47iRyGh",
        "colab_type": "code",
        "outputId": "f093064f-3a71-46b2-d863-e5f79f0be7f7",
        "colab": {
          "base_uri": "https://localhost:8080/",
          "height": 208
        }
      },
      "source": [
        "class BookStore:\n",
        "  \"Class for BookStore\"\n",
        "  noOfBooks = 0 #count variable\n",
        "\n",
        "  def __init__(self, init_title, init_author, init_publisher, init_price):\n",
        "    BookStore.noOfBooks += 1 #counting the number of books created or intialized\n",
        "    self.title = init_title\n",
        "    self.author = init_author\n",
        "    self.publisher = init_publisher\n",
        "    self.price = init_price\n",
        "  \n",
        "  def BookInfo (self):\n",
        "    #print(\"1. The Book Title: {} 2. The Author: {} 3. The Publisher: {} 4. The Price: {} 5. Total Books: \".format(self.title, self.author, self.publisher, self.price, BookStore.noOfBooks))\n",
        "    print(\"1. The Book Title: {}\".format(self.title))\n",
        "    print(\"2. The Author: {}\".format(self.author))\n",
        "    print(\"3. The Publisher: {}\".format(self.publisher))\n",
        "    print(\"4. The Price: ${}\".format(self.price))\n",
        "    print(\"5. Total Books: {}\".format(BookStore.noOfBooks))\n",
        "\n",
        "b = BookStore(\"MOOC for Python programming\", \"Angeliki Tsiara\", \"The University of Ioannina\", 500)\n",
        "b.BookInfo()\n",
        "\n",
        "c = BookStore(\"A Survey: How Python Pitches in IT-World\", \"Arun Kumar, Supriya.P.Panda\", \"Department of CSE\", 350)\n",
        "print(\"----------------------\")\n",
        "c.BookInfo()"
      ],
      "execution_count": 0,
      "outputs": [
        {
          "output_type": "stream",
          "text": [
            "1. The Book Title: MOOC for Python programming\n",
            "2. The Author: Angeliki Tsiara\n",
            "3. The Publisher: The University of Ioannina\n",
            "4. The Price: $500\n",
            "5. Total Books: 1\n",
            "----------------------\n",
            "1. The Book Title: A Survey: How Python Pitches in IT-World\n",
            "2. The Author: Arun Kumar, Supriya.P.Panda\n",
            "3. The Publisher: Department of CSE\n",
            "4. The Price: $350\n",
            "5. Total Books: 2\n"
          ],
          "name": "stdout"
        }
      ]
    },
    {
      "cell_type": "markdown",
      "metadata": {
        "id": "iBuxj0fwbHGP",
        "colab_type": "text"
      },
      "source": [
        "Problem 3:\n",
        "Create a Queue class. Queues are a fundamental computer science data structure. You can add elements to a queue, and they maintain a specific order. When you want to get something off the end of a queue, you get the item that has been in there the longest (this is known as first-in-first-out’, or FIFO).\n",
        "\n",
        "In your Queue class, you will need three methods:\n",
        "\n",
        "*   `init` : to initialize your Queue (think: how will you store the queue’s elements? You’ll need to initialize an appropriate object attribute in this method)\n",
        "*   `insert`: inserts one element in your Queue\n",
        "*   `remove`: removes one element from your Queue and returns it. If the queue is empty, return a message that says it is empty (without throwing an error that halts your code).\n",
        "\n",
        "\n",
        "Note: Do not use Python’s built in Queue data structure. Implement your own Queue with lists and\n",
        "class."
      ]
    },
    {
      "cell_type": "code",
      "metadata": {
        "id": "Hg7Mo_kwWImQ",
        "colab_type": "code",
        "outputId": "e09c4b15-3e9e-45bb-b8ae-f638d26490f9",
        "colab": {
          "base_uri": "https://localhost:8080/",
          "height": 35
        }
      },
      "source": [
        "class Queue:\n",
        "  \"This the FIFO Data Structure\"\n",
        "\n",
        "  def __init__ (self): #intializing the list\n",
        "    self.items = []\n",
        "\n",
        "  def enqueue (self, a): #insert the value\n",
        "    self.items.append(a)\n",
        "\n",
        "  def dequeue (self): #removing the last value (most stayed value)\n",
        "    self.items.pop()\n",
        "\n",
        "  def display (self): #display the list\n",
        "    print(self.items)\n",
        "\n",
        "q = Queue()\n",
        "\n",
        "q.enqueue(10)\n",
        "q.enqueue(20)\n",
        "q.enqueue(30)\n",
        "q.enqueue(40)\n",
        "\n",
        "q.dequeue()\n",
        "q.dequeue()\n",
        "\n",
        "q.display()"
      ],
      "execution_count": 0,
      "outputs": [
        {
          "output_type": "stream",
          "text": [
            "[10, 20]\n"
          ],
          "name": "stdout"
        }
      ]
    },
    {
      "cell_type": "markdown",
      "metadata": {
        "id": "XyrFEjxkeorE",
        "colab_type": "text"
      },
      "source": [
        "Problem 4:\n",
        "Create a `deck of cards` class. Internally, the deck of cards should use another class, a `card` class. \n",
        "\n",
        "Your requirements are:\n",
        " 1. The Deck class should have a deal method to deal a single card from the deck. After a card is dealt, it is removed from the deck.\n",
        " 2. There should be a shuffle method which makes sure the deck of cards has all 52 cards and then rearranges them randomly.\n",
        " 3. The Card class should have a suit (Hearts, Diamonds, Clubs, Spades) and a value (A,2,3,4,5,6,7,8,9,10,J,Q,K)"
      ]
    },
    {
      "cell_type": "code",
      "metadata": {
        "id": "0Pidx5oRzNj2",
        "colab_type": "code",
        "outputId": "2ea5687a-9d53-49a4-87d1-e95c42e73187",
        "colab": {
          "base_uri": "https://localhost:8080/",
          "height": 72
        }
      },
      "source": [
        "import itertools, random\n",
        "\n",
        "class Deck_of_Cards:\n",
        "  \"This is the deck of cards\"\n",
        "  def __init__ (self):\n",
        "    self.suit = [\"Hearts\", \"Diamonds\", \"Clubs\", \"Spades\"]\n",
        "    self.value = [\"A\",\"2\",\"3\",\"4\",\"5\",\"6\",\"7\",\"8\",\"9\",\"10\",\"J\",\"Q\",\"K\"]\n",
        "    self.deck = list(itertools.product(self.value,self.suit))\n",
        "    #print(self.deck)\n",
        "\n",
        "  def RandomThis (self):\n",
        "    random.shuffle(self.deck)\n",
        "    return self.deck\n",
        "\n",
        "  def GenRandomCard (self):\n",
        "    rand_card = random.choice(self.deck)\n",
        "    self.deck.remove(rand_card)\n",
        "    return rand_card\n",
        "\n",
        "d = Deck_of_Cards()\n",
        "\n",
        "d.RandomThis()\n",
        "print(d.deck)\n",
        "print(d.GenRandomCard())\n"
      ],
      "execution_count": 0,
      "outputs": [
        {
          "output_type": "stream",
          "text": [
            "[('9', 'Diamonds'), ('4', 'Diamonds'), ('4', 'Hearts'), ('7', 'Hearts'), ('2', 'Clubs'), ('K', 'Spades'), ('7', 'Clubs'), ('Q', 'Spades'), ('Q', 'Diamonds'), ('A', 'Diamonds'), ('K', 'Hearts'), ('7', 'Spades'), ('9', 'Spades'), ('3', 'Hearts'), ('Q', 'Clubs'), ('4', 'Spades'), ('A', 'Spades'), ('6', 'Diamonds'), ('10', 'Spades'), ('10', 'Hearts'), ('3', 'Diamonds'), ('4', 'Clubs'), ('9', 'Clubs'), ('3', 'Clubs'), ('10', 'Clubs'), ('Q', 'Hearts'), ('10', 'Diamonds'), ('A', 'Hearts'), ('9', 'Hearts'), ('5', 'Clubs'), ('J', 'Hearts'), ('3', 'Spades'), ('8', 'Diamonds'), ('5', 'Spades'), ('8', 'Spades'), ('J', 'Clubs'), ('K', 'Clubs'), ('6', 'Hearts'), ('6', 'Clubs'), ('8', 'Clubs'), ('K', 'Diamonds'), ('5', 'Diamonds'), ('J', 'Spades'), ('2', 'Hearts'), ('2', 'Spades'), ('6', 'Spades'), ('2', 'Diamonds'), ('7', 'Diamonds'), ('J', 'Diamonds'), ('5', 'Hearts'), ('8', 'Hearts'), ('A', 'Clubs')]\n",
            "('4', 'Spades')\n"
          ],
          "name": "stdout"
        }
      ]
    },
    {
      "cell_type": "markdown",
      "metadata": {
        "id": "EWgYRwtWmMwj",
        "colab_type": "text"
      },
      "source": [
        "Problem 5:\n",
        "  1. Create a class called `Numbers`, which has a single class attribute called `MULTIPLIER`, and a constructor which takes the parameters x and y (these should all be numbers).\n",
        "\n",
        "  2. Write a method called `add` which returns the sum of the attributes x and y.\n",
        "\n",
        "  3. Write a class method called `multiply`, which takes a single number parameter a and returns the product of a and MULTIPLIER.\n",
        "\n",
        "  4. Write a static method called `subtract`, which takes two number parameters, b and c, and returns b - c.\n",
        "\n",
        "  5. Write a method called `value` which returns a tuple containing the values of x and y. Make this method into a property, and write a setter and a deleter for manipulating the values of x and y.\n",
        "\n",
        "Note on static methods in Python:\n",
        " \n",
        "*   A static method is also a method which is bound to the class and not the object of the class.\n",
        "*   A static method can’t access or modify class state.\n",
        "*   It is present in a class because it makes sense for the method to be present in class.\n",
        "*   In general, static methods know nothing about class state. They are utility type methods that take some parameters and work upon those parameters. On the other hand class methods must have class(self) as parameter.\n",
        "*   There are two ways of creating a static method. We will use the below way of using @staticmethod built in decorator. (A decorator is a design pattern in Python that allows a user to add new functionality to an existing object without modifying its structure. Decorators are usually called before the definition of a function you want to decorate.)\n",
        "\n",
        "\n",
        "```\n",
        "#Static method\n",
        "class Student:\n",
        "  def __init__ (self, a, b):\n",
        "    self.reg_no = a\n",
        "    self.name = b\n",
        "  \n",
        "  @staticmethod\n",
        "  def isQualified (credits, compl_sem):\n",
        "    if comple_sem>5 and credits>100:\n",
        "      return True\n",
        "    else:\n",
        "      return False\n",
        "\n",
        "```\n",
        "\n"
      ]
    },
    {
      "cell_type": "code",
      "metadata": {
        "id": "xzH2SHSIeDVi",
        "colab_type": "code",
        "outputId": "c0281cd7-cc90-4f87-a81c-8aa8bf77238c",
        "colab": {
          "base_uri": "https://localhost:8080/",
          "height": 69
        }
      },
      "source": [
        "class Numbers:\n",
        "  \"This is the base class Numbers\"\n",
        "  \n",
        "  def __init__ (self, x, y):\n",
        "    self.MULTIPLIER=2  \n",
        "    self.first_num = x\n",
        "    self.second_num = y\n",
        "\n",
        "  def add (self):\n",
        "    return (self.first_num + self.first_num)\n",
        "\n",
        "  def mutiply (self,a):\n",
        "    return (self.MULTIPLIER*a)\n",
        "\n",
        "  @staticmethod\n",
        "  def subtract (b,c):\n",
        "    return (b-c)\n",
        "    \n",
        "  def value (self):\n",
        "    tuple_new = (self.x, self.y)\n",
        "    return tuple_new\n",
        "\n",
        "N = Numbers(5,2)\n",
        "print(\"The additon value is: \",N.add())\n",
        "\n",
        "print(\"The multiply value is:\",N.mutiply(10))\n",
        "\n",
        "print(\"The sutract value is:\", Numbers.subtract(3,2))"
      ],
      "execution_count": 0,
      "outputs": [
        {
          "output_type": "stream",
          "text": [
            "The additon value is:  10\n",
            "The multiply value is: 20\n",
            "The sutract value is: 1\n"
          ],
          "name": "stdout"
        }
      ]
    },
    {
      "cell_type": "code",
      "metadata": {
        "id": "kX3FiPmQ3A1t",
        "colab_type": "code",
        "colab": {}
      },
      "source": [
        ""
      ],
      "execution_count": 0,
      "outputs": []
    }
  ]
}